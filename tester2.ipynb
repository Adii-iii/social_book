{
 "cells": [
  {
   "cell_type": "code",
   "execution_count": 10,
   "metadata": {},
   "outputs": [],
   "source": [
    "import pandas as pd\n",
    "import numpy as np"
   ]
  },
  {
   "cell_type": "code",
   "execution_count": 2,
   "metadata": {},
   "outputs": [],
   "source": [
    "data = []\n",
    "for i in range(1, 11):\n",
    "    row = [i, i * 2, i * 3]\n",
    "    data.append(row)\n"
   ]
  },
  {
   "cell_type": "code",
   "execution_count": 3,
   "metadata": {},
   "outputs": [],
   "source": [
    "df = pd.DataFrame(data, columns=[\"A\", \"B\", \"C\"])"
   ]
  },
  {
   "cell_type": "code",
   "execution_count": 4,
   "metadata": {},
   "outputs": [
    {
     "name": "stdout",
     "output_type": "stream",
     "text": [
      "    A   B   C\n",
      "0   1   2   3\n",
      "1   2   4   6\n",
      "2   3   6   9\n",
      "3   4   8  12\n",
      "4   5  10  15\n",
      "5   6  12  18\n",
      "6   7  14  21\n",
      "7   8  16  24\n",
      "8   9  18  27\n",
      "9  10  20  30\n"
     ]
    }
   ],
   "source": [
    "print(df)"
   ]
  },
  {
   "cell_type": "code",
   "execution_count": 6,
   "metadata": {},
   "outputs": [
    {
     "name": "stdout",
     "output_type": "stream",
     "text": [
      "    A   B   C\n",
      "7   8  16  24\n",
      "8   9  18  27\n",
      "9  10  20  30\n"
     ]
    }
   ],
   "source": [
    "filtered_df = df[df[\"B\"] > 15]\n",
    "print(filtered_df)"
   ]
  },
  {
   "cell_type": "code",
   "execution_count": 7,
   "metadata": {},
   "outputs": [
    {
     "name": "stdout",
     "output_type": "stream",
     "text": [
      "   A   B   C\n",
      "3  4   8  12\n",
      "4  5  10  15\n",
      "5  6  12  18\n"
     ]
    }
   ],
   "source": [
    "filtered_df1 = df[(df[\"B\"]>7) & (df[\"C\"]<21)]\n",
    "print(filtered_df1)"
   ]
  },
  {
   "cell_type": "code",
   "execution_count": 8,
   "metadata": {},
   "outputs": [
    {
     "name": "stdout",
     "output_type": "stream",
     "text": [
      "    A   B   C\n",
      "0   1   2   3\n",
      "1   2   4   6\n",
      "2   3   6   9\n",
      "3   4   8  12\n",
      "4   5  10  15\n",
      "5  20  12  18\n",
      "6   7  14  21\n",
      "7   8  16  24\n",
      "8   9  18  27\n",
      "9  10  20  30\n"
     ]
    }
   ],
   "source": [
    "df['A'] = df['A'].replace(6, 20)\n",
    "print(df)"
   ]
  },
  {
   "cell_type": "code",
   "execution_count": 11,
   "metadata": {},
   "outputs": [
    {
     "name": "stdout",
     "output_type": "stream",
     "text": [
      "          A         B         C\n",
      "0  0.966481  0.201720  0.100127\n",
      "1  0.831171  0.494214  0.241817\n"
     ]
    }
   ],
   "source": [
    "df2 = pd.DataFrame(np.random.rand(2, 3), columns = ['A', 'B', 'C'])\n",
    "print(df2)"
   ]
  },
  {
   "cell_type": "code",
   "execution_count": 12,
   "metadata": {},
   "outputs": [
    {
     "name": "stdout",
     "output_type": "stream",
     "text": [
      "           A          B          C\n",
      "0   1.000000   2.000000   3.000000\n",
      "1   2.000000   4.000000   6.000000\n",
      "2   3.000000   6.000000   9.000000\n",
      "3   4.000000   8.000000  12.000000\n",
      "4   5.000000  10.000000  15.000000\n",
      "5  20.000000  12.000000  18.000000\n",
      "6   7.000000  14.000000  21.000000\n",
      "7   8.000000  16.000000  24.000000\n",
      "8   9.000000  18.000000  27.000000\n",
      "9  10.000000  20.000000  30.000000\n",
      "0   0.966481   0.201720   0.100127\n",
      "1   0.831171   0.494214   0.241817\n"
     ]
    }
   ],
   "source": [
    "df=pd.concat([df,df2])\n",
    "print(df)"
   ]
  }
 ],
 "metadata": {
  "kernelspec": {
   "display_name": "env",
   "language": "python",
   "name": "python3"
  },
  "language_info": {
   "codemirror_mode": {
    "name": "ipython",
    "version": 3
   },
   "file_extension": ".py",
   "mimetype": "text/x-python",
   "name": "python",
   "nbconvert_exporter": "python",
   "pygments_lexer": "ipython3",
   "version": "3.11.2"
  },
  "orig_nbformat": 4
 },
 "nbformat": 4,
 "nbformat_minor": 2
}
